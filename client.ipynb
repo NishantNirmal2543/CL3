{
 "cells": [
  {
   "cell_type": "code",
   "execution_count": 1,
   "id": "5e064da3-a479-4a6a-81e5-f99668b9395f",
   "metadata": {
    "tags": []
   },
   "outputs": [
    {
     "name": "stdout",
     "output_type": "stream",
     "text": [
      "Collecting pyro4Note: you may need to restart the kernel to use updated packages.\n",
      "\n",
      "  Obtaining dependency information for pyro4 from https://files.pythonhosted.org/packages/70/e3/8c4e0d24b46fbf02e6b2dc2da5d18f0c73cfd343a1fb01ae64c788c20e56/Pyro4-4.82-py2.py3-none-any.whl.metadata\n",
      "  Downloading Pyro4-4.82-py2.py3-none-any.whl.metadata (2.2 kB)\n",
      "Collecting serpent>=1.27 (from pyro4)\n",
      "  Obtaining dependency information for serpent>=1.27 from https://files.pythonhosted.org/packages/ad/86/e029bd8a451f145e28530128239be057ca6e701aac46ad0d0000f852d551/serpent-1.41-py3-none-any.whl.metadata\n",
      "  Downloading serpent-1.41-py3-none-any.whl.metadata (5.8 kB)\n",
      "Downloading Pyro4-4.82-py2.py3-none-any.whl (89 kB)\n",
      "   ---------------------------------------- 90.0/90.0 kB 1.7 MB/s eta 0:00:00\n",
      "Downloading serpent-1.41-py3-none-any.whl (9.6 kB)\n",
      "Installing collected packages: serpent, pyro4\n",
      "Successfully installed pyro4-4.82 serpent-1.41\n"
     ]
    }
   ],
   "source": [
    "pip install pyro4"
   ]
  },
  {
   "cell_type": "code",
   "execution_count": 2,
   "id": "54bad082-7dd8-44da-b287-b44ada67b843",
   "metadata": {
    "tags": []
   },
   "outputs": [
    {
     "name": "stdin",
     "output_type": "stream",
     "text": [
      "Enter the URI of the server:  PYRO:obj_6867f4bad2f646a3be926334804405df@localhost:54916\n",
      "Enter the first string:  my name is nishant\n",
      "Enter the second string:  my name is nirmal\n"
     ]
    },
    {
     "name": "stdout",
     "output_type": "stream",
     "text": [
      "Concatenated String: my name is nishantmy name is nirmal\n"
     ]
    }
   ],
   "source": [
    "import Pyro4\n",
    "\n",
    "def main():\n",
    "    uri = input(\"Enter the URI of the server: \")\n",
    "    str1 = input(\"Enter the first string: \")\n",
    "    str2 = input(\"Enter the second string: \")\n",
    "\n",
    "    concat_server = Pyro4.Proxy(uri)\n",
    "    concatenated_str = concat_server.concatenate_strings(str1, str2)\n",
    "    \n",
    "    print(\"Concatenated String:\", concatenated_str)\n",
    "\n",
    "if __name__ == \"__main__\":\n",
    "    main()\n"
   ]
  },
  {
   "cell_type": "code",
   "execution_count": null,
   "id": "0b4f4dbf-d798-4877-a0d0-4715beb6655e",
   "metadata": {},
   "outputs": [],
   "source": []
  }
 ],
 "metadata": {
  "kernelspec": {
   "display_name": "Python 3 (ipykernel)",
   "language": "python",
   "name": "python3"
  },
  "language_info": {
   "codemirror_mode": {
    "name": "ipython",
    "version": 3
   },
   "file_extension": ".py",
   "mimetype": "text/x-python",
   "name": "python",
   "nbconvert_exporter": "python",
   "pygments_lexer": "ipython3",
   "version": "3.11.5"
  }
 },
 "nbformat": 4,
 "nbformat_minor": 5
}
