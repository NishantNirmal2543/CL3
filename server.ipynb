{
 "cells": [
  {
   "cell_type": "code",
   "execution_count": null,
   "id": "463bc989-b9e0-45ca-8fcf-6ed5866c31a9",
   "metadata": {
    "tags": []
   },
   "outputs": [
    {
     "name": "stdout",
     "output_type": "stream",
     "text": [
      "Server URI: PYRO:obj_6867f4bad2f646a3be926334804405df@localhost:54916\n"
     ]
    }
   ],
   "source": [
    "import Pyro4\n",
    "\n",
    "@Pyro4.expose\n",
    "class StringConcatenator(object):\n",
    "    def concatenate_strings(self, str1, str2):\n",
    "        return str1 + str2\n",
    "\n",
    "def main():\n",
    "    daemon = Pyro4.Daemon()\n",
    "    uri = daemon.register(StringConcatenator)\n",
    "    \n",
    "    print(\"Server URI:\", uri)\n",
    "    daemon.requestLoop()\n",
    "\n",
    "if __name__ == \"__main__\":\n",
    "    main()"
   ]
  },
  {
   "cell_type": "code",
   "execution_count": null,
   "id": "02653a17-f0ed-4df0-8f16-6a94c6d0f161",
   "metadata": {},
   "outputs": [],
   "source": []
  }
 ],
 "metadata": {
  "kernelspec": {
   "display_name": "Python 3 (ipykernel)",
   "language": "python",
   "name": "python3"
  },
  "language_info": {
   "codemirror_mode": {
    "name": "ipython",
    "version": 3
   },
   "file_extension": ".py",
   "mimetype": "text/x-python",
   "name": "python",
   "nbconvert_exporter": "python",
   "pygments_lexer": "ipython3",
   "version": "3.11.5"
  }
 },
 "nbformat": 4,
 "nbformat_minor": 5
}
